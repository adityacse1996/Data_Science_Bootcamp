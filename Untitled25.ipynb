{
  "nbformat": 4,
  "nbformat_minor": 0,
  "metadata": {
    "colab": {
      "name": "Untitled25.ipynb",
      "provenance": [],
      "authorship_tag": "ABX9TyNL/6dNXVRnMZB0COnrjDCR",
      "include_colab_link": true
    },
    "kernelspec": {
      "name": "python3",
      "display_name": "Python 3"
    }
  },
  "cells": [
    {
      "cell_type": "markdown",
      "metadata": {
        "id": "view-in-github",
        "colab_type": "text"
      },
      "source": [
        "<a href=\"https://colab.research.google.com/github/adityacse1996/Data_Science_Bootcamp/blob/master/Untitled25.ipynb\" target=\"_parent\"><img src=\"https://colab.research.google.com/assets/colab-badge.svg\" alt=\"Open In Colab\"/></a>"
      ]
    },
    {
      "cell_type": "code",
      "metadata": {
        "id": "WNpNZxf_3_nT"
      },
      "source": [
        "def myfun(a,b):\r\n",
        "  return a**b\r\n"
      ],
      "execution_count": null,
      "outputs": []
    },
    {
      "cell_type": "code",
      "metadata": {
        "id": "s4an3XC54H2D"
      },
      "source": [
        "def myfun2(a,b):\r\n",
        "  if (b==1):\r\n",
        "    return a\r\n",
        "  return a*myfun2(a,b-1)"
      ],
      "execution_count": null,
      "outputs": []
    },
    {
      "cell_type": "code",
      "metadata": {
        "colab": {
          "base_uri": "https://localhost:8080/"
        },
        "id": "p40Jl-_z455N",
        "outputId": "0523a577-bd4f-482c-97a7-4b1836d8a496"
      },
      "source": [
        "myfun2(5,3)"
      ],
      "execution_count": null,
      "outputs": [
        {
          "output_type": "execute_result",
          "data": {
            "text/plain": [
              "125"
            ]
          },
          "metadata": {
            "tags": []
          },
          "execution_count": 6
        }
      ]
    },
    {
      "cell_type": "code",
      "metadata": {
        "id": "HSO5pVc448rP"
      },
      "source": [
        "def fibo(n):\r\n",
        "   if n <= 1:\r\n",
        "       return n\r\n",
        "   else:\r\n",
        "       return fibo(n-1) + fibo(n-2)\r\n",
        "\r\n",
        "def myfun3(number):\r\n",
        "   for i in range(number+1):\r\n",
        "       print(fibo(i))"
      ],
      "execution_count": 17,
      "outputs": []
    },
    {
      "cell_type": "code",
      "metadata": {
        "colab": {
          "base_uri": "https://localhost:8080/"
        },
        "id": "6GJhhVDa50Fr",
        "outputId": "4cd33abf-e030-484c-f367-05d03164e561"
      },
      "source": [
        "myfun3(5)"
      ],
      "execution_count": 22,
      "outputs": [
        {
          "output_type": "stream",
          "text": [
            "0\n",
            "1\n",
            "1\n",
            "2\n",
            "3\n"
          ],
          "name": "stdout"
        }
      ]
    },
    {
      "cell_type": "code",
      "metadata": {
        "id": "0OU1wzwU8dQ0"
      },
      "source": [
        "\r\n",
        "def myfun4(a):\r\n",
        "  mylist=[]\r\n",
        "  for i in range(len(a)):\r\n",
        "    if mylist.count(a[i])==0:\r\n",
        "      mylist.append(a[i])\r\n",
        "  return mylist"
      ],
      "execution_count": 34,
      "outputs": []
    },
    {
      "cell_type": "code",
      "metadata": {
        "colab": {
          "base_uri": "https://localhost:8080/"
        },
        "id": "XrF3zDM0_JJ5",
        "outputId": "1d0ee1fc-9162-4130-c5e5-eb0e7897bbb8"
      },
      "source": [
        "myfun4([1,2,3,4,4,2,1,5,1,4,5])"
      ],
      "execution_count": 35,
      "outputs": [
        {
          "output_type": "execute_result",
          "data": {
            "text/plain": [
              "[1, 2, 3, 4, 5]"
            ]
          },
          "metadata": {
            "tags": []
          },
          "execution_count": 35
        }
      ]
    }
  ]
}